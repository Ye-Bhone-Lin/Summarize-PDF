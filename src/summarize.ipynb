{
 "cells": [
  {
   "cell_type": "code",
   "execution_count": 1,
   "metadata": {},
   "outputs": [],
   "source": [
    "from langchain_community.document_loaders import PyPDFLoader\n",
    "\n",
    "pdf_loader = PyPDFLoader(r\"D:\\Programming\\Summarize-PDF\\IRT_Machine_Translation.pdf\")"
   ]
  },
  {
   "cell_type": "code",
   "execution_count": 2,
   "metadata": {},
   "outputs": [
    {
     "data": {
      "text/plain": [
       "[Document(metadata={'source': 'D:\\\\Programming\\\\Summarize-PDF\\\\IRT_Machine_Translation.pdf', 'page': 0}, page_content='See discussions, stats, and author profiles for this publication at: https://www.researchgate.net/publication/320730405\\nMachine Translation\\nPreprint · October 2017\\nCITATIONS\\n0\\nREADS\\n38,236\\n1 author:\\nMuhammad Irfan\\nBahria University\\n1 PUBLICATION\\xa0\\xa0\\xa00 CITATIONS\\xa0\\xa0\\xa0\\nSEE PROFILE\\nAll content following this page was uploaded by Muhammad Irfan on 31 October 2017.\\nThe user has requested enhancement of the downloaded file.'),\n",
       " Document(metadata={'source': 'D:\\\\Programming\\\\Summarize-PDF\\\\IRT_Machine_Translation.pdf', 'page': 1}, page_content='Machine Translation\\nMuhammad Irfan\\nDepartment of Computer Science\\nBahria University Islamabad\\nEmail: muhammad.Irfan@outlook.com\\nAbstract—Language is core medium of communication and\\ntranslation is core tool for the understand the information\\nin unknown language.Machine translation helps the people to\\nunderstand the information of unknown language without the\\nhelp of Human translator. This study is brief introduction to\\nmachine translation.\\nKeywords— Machine Translation, Rule-base Machine Transla-\\ntion, Example-base Machine Translation, Statistical Machine.\\nI. L ITERATURE REVIEW\\nThe idea of universal language was found in 17th century\\n[3].The concept of translation was base on word-to-word\\ntranslation.\\nWith modern computer and advance computation linguistics\\nman has able to develop automatic machine translation. The\\nEra of modern machine translation started in 1940s and\\nupto 1960 much work was done in advance linguistics[3]. In\\n1966 the Automatic Language Processing Advisory Committee\\n(ALPAC) reported that Machine Translation could not produce\\nquality translations as human translators[3], [2].\\nIn 1980s IBM started work in statistical machine translation\\nand 1990s the parallel text availability had increased the\\ninterest in statistical machine translation. In 2006 an open-\\nsource Statistical Machine Translation tool called Moses was\\nreleased and it currently the most complete Statistical Machine\\nTranslation software available[1].\\nIn 2008 a text/SMS translation service for mobiles was intro-\\nduced in Japan. In 2009 speech-to-speech translation were pro-\\nvided in mobile phone for English, Japanese and Chinese.The\\nNeural machine translation is a new approach to machine\\ntranslation proposed by Kalchbrenner and Blunsom in 2013[4].\\nII. I NTRODUCTION\\nLanguage is medium in which human can express his/her\\nidea. The total estimated language in world are between three\\nthousand to eight thousand. It is very difﬁcult to understand\\nevery language but the languages are the only medium of\\ncommunication in human society. The idea of translation\\nintroduces to communicate messages from one language to\\nothers.\\nMachine Translation (MT)\\nMachine Translation means automatic translation, It the\\nﬁeld of Artiﬁcial Intelligence. Machine translation is computer\\nprogram which is design to translate text from one language\\n(source language) to another language (target language) with-\\nout the help of human. The aim of Machine Translation is to\\nprovide a system that translate text of source language into\\ntarget language and translation express the same meaning as\\nit in source language.\\nGeneral Translation step\\nAny human translation can be described in following steps\\n• Decode the Source Text\\n• Re-encode it into Target language\\nBoth decoding and encode require deep knowledge of source\\nlanguage(SL) and target language (TL). This includes gram-\\nmar, semantic syntax understanding of both languages. Natural\\nLanguage are very complex in term words meaning, grammar\\nrules etc.\\nMachine Translation Approaches\\nThe machine translation approaches are rule-based approach\\nand corpus-based approach. For rule base machine translation,\\nHuman expert deﬁne set of rules for the translation process\\nwhile in corpus base approach rules are automatically ex-\\ntracted.\\n1) Rule-based Machine Translation(RBMT) Approach:The\\nRule-based Machine Translation works on the morphology,\\nsyntax and semantic of both languages. So, we required\\nthe syntax analysis, semantic analysis of Source text and to\\ngenerate the text in target language we need syntax generation\\nand semantic generation. We also need the bilingual dictionary\\nof source and target languages. General Steps of Rule-based\\nMachine Translation are described in ﬁgure 1.\\nFig. 1. Rule-based Machine Translation\\nSub approaches in RBMT\\nThe sub approaches in rule-based Machine translation\\nare direct, transfer-based, interlingual Machine Translation\\napproaches.'),\n",
       " Document(metadata={'source': 'D:\\\\Programming\\\\Summarize-PDF\\\\IRT_Machine_Translation.pdf', 'page': 2}, page_content='Direct Machine Translation Approach:\\nThis is oldest approach and translation is performed at word\\nlevel. There is no additional intermediary representation be-\\ntween source and target languages. Words of source language\\ntext is directly translated into the target language. This is\\nuni-directional bilingual translation system. Direct machine\\ntranslation approach involves the word by word translation\\nwith some modiﬁcation at grammar level. The translation is\\nnot good as it is just the replacement of words from target\\nlanguage into source language text i-e word by word meaning\\nreplacement.\\nInterlingual Machine Translation Approach:\\nThis approach introduces an intermediary language represen-\\ntation between source and target languages. This intermediary\\nlanguage is called Neutral Language. Neutral language can\\nrepresent any natural language. It is independent of source and\\ntarget Languages. It is also useful for multilingual translation\\nmachine system.KANT system was developed on interlingual\\napproach in 1992 by Nyberg and Mitamura[5]. Building in-\\nterlingual language is not an easy job. Too much efforts are\\nrequired to develop truly neutral language.\\nTransfer base Machine Translation Approach\\nIn this approach the text of source language is converted\\ninto intermediary representation, it is then used to generate\\nthe target language text with help bilingual dictionary and\\ngrammar rules. Transfer based machine translation process is\\ndivided into three phases.\\nAnalysis\\nIn this phase source language text is analyzed on basis of lin-\\nguistic information and heuristics to parser the text (syntactic\\nrepresentation)\\nTransfer\\nThe syntactic representation of source language is converted\\ninto the syntactic form of target language.\\nGeneration\\nThe ﬁnal text in target language is generate with help of\\nmorphological analysis. This approach heavily dependent on\\nthe grammar and structure of sentence and changes to a\\nmonolingual component affect all transfer modules for that\\nlanguage.\\n2) Corpus-based Machine Translation Approach:It is ac-\\ntually data driven machine translation. It was introduced an\\nalternative approach to the rule-based approach. In this ap-\\nproach the bilanguage parallel corpus is used to extract the\\ntranslation for new sentences. A large amount of raw data\\nis collected in parallel corpora. The raw data is actually the\\ntranslation between source and target languages and this data\\nis used for translation. The sub-approaches of Corpus-based\\nMachine Translation are Statistical Machine Translation and\\nExample-based Machine Translation.\\nStatistical Machine Translation(SMT)\\nThis approach is basis on statistical model. It has two statistical\\nprobabilities models: language model and translation model\\nand massive parallel corpora of source and target languages.\\nThe advantage of SMT system is that linguistic knowledge\\nis not required for building them. The difﬁculty in SMT\\nsystem is creating massive parallel corpus. We have to two\\nmodels in SMT, one is Word-based and other is phrase-based.\\nIn word-bases MT sentences are consider as combination of\\nsingle words and structure relation between the words are\\nignored while in phrase-based model consider sentences as\\ncombination of phrases or chunk. The basic concept in SMT\\nis probability. The probability score of translations are gen-\\nerated from already available translated data (parallel corpus,\\ntranslated by human), the translation having high probability is\\nselected as ﬁnal translation. The probability is calculated with\\nhelp of language and translation models.\\nA huge amount of data is need for SMT and evolved many\\ntraining repetition process. There is also no speciﬁc method\\nquality control of corpora.\\nFig. 2. Statistical Machine Translation\\nExample-based Machine Translation (EBMT)\\nExample-based machine translation contains the point to point\\nmapping between the source and target language sentences i-e\\nwe have examples data that is translated between the source\\nand target language[6]. This data is used for translation. The\\nbasic idea is if already translated sentence occur again it, the\\nsame translation is likely to be correct again. Basically, EBMT\\nis memory-based translation and the concept of analogy is used\\nfor the translation.\\nFig. 3. Example-based Machine Translation\\nIII. C ONCLUSION\\nMany approaches have been proposed but none of them\\nproduce equivalent translation between target and source lan-\\nguages. It is difﬁcult to achieve 100 percent accuracy in trans-\\nlation due the complexity nature of natural Languages. Every\\nnatural language having different sentence structures, grammar\\nand lexicons. However, combining the best feature of different\\napproaches into hybrid approach can improve the accuracy of\\ntranslation. This quality improvement can increase the machine\\ntranslation role in cross-language Information Retrieval System\\nand Multilingual Information Retrieval systems.\\nACKNOWLEDGMENT\\nThe author would like to thank Dr. Arif UR Rehman Bahria\\nUniversity Islamabad.'),\n",
       " Document(metadata={'source': 'D:\\\\Programming\\\\Summarize-PDF\\\\IRT_Machine_Translation.pdf', 'page': 3}, page_content='REFERENCES\\n[1] Statistical Machine Translation. http://www.statmt.org/.\\n[2] Translation Automation Timeline. https://www.taus.net/academy/timelines/translation-\\nautomation-timeline.\\n[3] John Hutchins. Machine translation: History and general principles. The\\nencyclopedia of languages and linguistics, 5:2322–2332, 1994.\\n[4] Nal Kalchbrenner and Phil Blunsom. Recurrent continuous translation\\nmodels. In EMNLP, volume 3, page 413, 2013.\\n[5] Eric H. Nyberg and Teruko Mitamura. The kant system: Fast, accurate,\\nhigh-quality translation in practical domains. In Proceedings of the\\n14th Conference on Computational Linguistics - Volume 3, COLING\\n’92, pages 1069–1073, Stroudsburg, PA, USA, 1992. Association for\\nComputational Linguistics.\\n[6] MD Okpor. Machine translation approaches: issues and challenges.\\nInternational Journal of Computer Science Issues (IJCSI), 11(5):159,\\n2014.\\nView publication stats')]"
      ]
     },
     "execution_count": 2,
     "metadata": {},
     "output_type": "execute_result"
    }
   ],
   "source": [
    "pages = []\n",
    "for doc in pdf_loader.lazy_load():\n",
    "    pages.append(doc)\n",
    "pages"
   ]
  },
  {
   "cell_type": "code",
   "execution_count": 3,
   "metadata": {},
   "outputs": [],
   "source": [
    "from langchain_groq import ChatGroq\n",
    "from dotenv import load_dotenv\n",
    "\n",
    "load_dotenv()\n",
    "model = ChatGroq(temperature = 0.1, model_name = \"llama-3.1-8b-instant\")"
   ]
  },
  {
   "cell_type": "code",
   "execution_count": 4,
   "metadata": {},
   "outputs": [
    {
     "data": {
      "text/plain": [
       "[Document(metadata={'source': 'D:\\\\Programming\\\\Summarize-PDF\\\\IRT_Machine_Translation.pdf', 'page': 0}, page_content='See discussions, stats, and author profiles for this publication at: https://www.researchgate.net/publication/320730405\\nMachine Translation\\nPreprint · October 2017\\nCITATIONS\\n0\\nREADS\\n38,236\\n1 author:\\nMuhammad Irfan\\nBahria University\\n1 PUBLICATION\\xa0\\xa0\\xa00 CITATIONS\\xa0\\xa0\\xa0\\nSEE PROFILE\\nAll content following this page was uploaded by Muhammad Irfan on 31 October 2017.\\nThe user has requested enhancement of the downloaded file.'),\n",
       " Document(metadata={'source': 'D:\\\\Programming\\\\Summarize-PDF\\\\IRT_Machine_Translation.pdf', 'page': 1}, page_content='Machine Translation\\nMuhammad Irfan\\nDepartment of Computer Science\\nBahria University Islamabad\\nEmail: muhammad.Irfan@outlook.com\\nAbstract—Language is core medium of communication and\\ntranslation is core tool for the understand the information\\nin unknown language.Machine translation helps the people to\\nunderstand the information of unknown language without the\\nhelp of Human translator. This study is brief introduction to\\nmachine translation.\\nKeywords— Machine Translation, Rule-base Machine Transla-\\ntion, Example-base Machine Translation, Statistical Machine.\\nI. L ITERATURE REVIEW\\nThe idea of universal language was found in 17th century\\n[3].The concept of translation was base on word-to-word\\ntranslation.\\nWith modern computer and advance computation linguistics\\nman has able to develop automatic machine translation. The\\nEra of modern machine translation started in 1940s and\\nupto 1960 much work was done in advance linguistics[3]. In\\n1966 the Automatic Language Processing Advisory Committee\\n(ALPAC) reported that Machine Translation could not produce\\nquality translations as human translators[3], [2].\\nIn 1980s IBM started work in statistical machine translation\\nand 1990s the parallel text availability had increased the\\ninterest in statistical machine translation. In 2006 an open-\\nsource Statistical Machine Translation tool called Moses was\\nreleased and it currently the most complete Statistical Machine\\nTranslation software available[1].\\nIn 2008 a text/SMS translation service for mobiles was intro-\\nduced in Japan. In 2009 speech-to-speech translation were pro-\\nvided in mobile phone for English, Japanese and Chinese.The\\nNeural machine translation is a new approach to machine\\ntranslation proposed by Kalchbrenner and Blunsom in 2013[4].\\nII. I NTRODUCTION\\nLanguage is medium in which human can express his/her\\nidea. The total estimated language in world are between three\\nthousand to eight thousand. It is very difﬁcult to understand\\nevery language but the languages are the only medium of\\ncommunication in human society. The idea of translation\\nintroduces to communicate messages from one language to\\nothers.\\nMachine Translation (MT)\\nMachine Translation means automatic translation, It the\\nﬁeld of Artiﬁcial Intelligence. Machine translation is computer\\nprogram which is design to translate text from one language\\n(source language) to another language (target language) with-\\nout the help of human. The aim of Machine Translation is to\\nprovide a system that translate text of source language into\\ntarget language and translation express the same meaning as\\nit in source language.\\nGeneral Translation step\\nAny human translation can be described in following steps\\n• Decode the Source Text\\n• Re-encode it into Target language\\nBoth decoding and encode require deep knowledge of source\\nlanguage(SL) and target language (TL). This includes gram-\\nmar, semantic syntax understanding of both languages. Natural\\nLanguage are very complex in term words meaning, grammar\\nrules etc.\\nMachine Translation Approaches\\nThe machine translation approaches are rule-based approach\\nand corpus-based approach. For rule base machine translation,\\nHuman expert deﬁne set of rules for the translation process\\nwhile in corpus base approach rules are automatically ex-\\ntracted.\\n1) Rule-based Machine Translation(RBMT) Approach:The\\nRule-based Machine Translation works on the morphology,\\nsyntax and semantic of both languages. So, we required\\nthe syntax analysis, semantic analysis of Source text and to\\ngenerate the text in target language we need syntax generation\\nand semantic generation. We also need the bilingual dictionary\\nof source and target languages. General Steps of Rule-based\\nMachine Translation are described in ﬁgure 1.\\nFig. 1. Rule-based Machine Translation\\nSub approaches in RBMT\\nThe sub approaches in rule-based Machine translation\\nare direct, transfer-based, interlingual Machine Translation\\napproaches.'),\n",
       " Document(metadata={'source': 'D:\\\\Programming\\\\Summarize-PDF\\\\IRT_Machine_Translation.pdf', 'page': 2}, page_content='Direct Machine Translation Approach:\\nThis is oldest approach and translation is performed at word\\nlevel. There is no additional intermediary representation be-\\ntween source and target languages. Words of source language\\ntext is directly translated into the target language. This is\\nuni-directional bilingual translation system. Direct machine\\ntranslation approach involves the word by word translation\\nwith some modiﬁcation at grammar level. The translation is\\nnot good as it is just the replacement of words from target\\nlanguage into source language text i-e word by word meaning\\nreplacement.\\nInterlingual Machine Translation Approach:\\nThis approach introduces an intermediary language represen-\\ntation between source and target languages. This intermediary\\nlanguage is called Neutral Language. Neutral language can\\nrepresent any natural language. It is independent of source and\\ntarget Languages. It is also useful for multilingual translation\\nmachine system.KANT system was developed on interlingual\\napproach in 1992 by Nyberg and Mitamura[5]. Building in-\\nterlingual language is not an easy job. Too much efforts are\\nrequired to develop truly neutral language.\\nTransfer base Machine Translation Approach\\nIn this approach the text of source language is converted\\ninto intermediary representation, it is then used to generate\\nthe target language text with help bilingual dictionary and\\ngrammar rules. Transfer based machine translation process is\\ndivided into three phases.\\nAnalysis\\nIn this phase source language text is analyzed on basis of lin-\\nguistic information and heuristics to parser the text (syntactic\\nrepresentation)\\nTransfer\\nThe syntactic representation of source language is converted\\ninto the syntactic form of target language.\\nGeneration\\nThe ﬁnal text in target language is generate with help of\\nmorphological analysis. This approach heavily dependent on\\nthe grammar and structure of sentence and changes to a\\nmonolingual component affect all transfer modules for that\\nlanguage.\\n2) Corpus-based Machine Translation Approach:It is ac-\\ntually data driven machine translation. It was introduced an\\nalternative approach to the rule-based approach. In this ap-\\nproach the bilanguage parallel corpus is used to extract the\\ntranslation for new sentences. A large amount of raw data\\nis collected in parallel corpora. The raw data is actually the\\ntranslation between source and target languages and this data\\nis used for translation. The sub-approaches of Corpus-based\\nMachine Translation are Statistical Machine Translation and\\nExample-based Machine Translation.\\nStatistical Machine Translation(SMT)\\nThis approach is basis on statistical model. It has two statistical\\nprobabilities models: language model and translation model\\nand massive parallel corpora of source and target languages.\\nThe advantage of SMT system is that linguistic knowledge\\nis not required for building them. The difﬁculty in SMT\\nsystem is creating massive parallel corpus. We have to two\\nmodels in SMT, one is Word-based and other is phrase-based.\\nIn word-bases MT sentences are consider as combination of\\nsingle words and structure relation between the words are\\nignored while in phrase-based model consider sentences as\\ncombination of phrases or chunk. The basic concept in SMT\\nis probability. The probability score of translations are gen-\\nerated from already available translated data (parallel corpus,\\ntranslated by human), the translation having high probability is\\nselected as ﬁnal translation. The probability is calculated with\\nhelp of language and translation models.\\nA huge amount of data is need for SMT and evolved many\\ntraining repetition process. There is also no speciﬁc method\\nquality control of corpora.\\nFig. 2. Statistical Machine Translation\\nExample-based Machine Translation (EBMT)\\nExample-based machine translation contains the point to point\\nmapping between the source and target language sentences i-e\\nwe have examples data that is translated between the source\\nand target language[6]. This data is used for translation. The\\nbasic idea is if already translated sentence occur again it, the\\nsame translation is likely to be correct again. Basically, EBMT\\nis memory-based translation and the concept of analogy is used\\nfor the translation.\\nFig. 3. Example-based Machine Translation\\nIII. C ONCLUSION\\nMany approaches have been proposed but none of them\\nproduce equivalent translation between target and source lan-\\nguages. It is difﬁcult to achieve 100 percent accuracy in trans-\\nlation due the complexity nature of natural Languages. Every\\nnatural language having different sentence structures, grammar\\nand lexicons. However, combining the best feature of different\\napproaches into hybrid approach can improve the accuracy of\\ntranslation. This quality improvement can increase the machine\\ntranslation role in cross-language Information Retrieval System\\nand Multilingual Information Retrieval systems.\\nACKNOWLEDGMENT\\nThe author would like to thank Dr. Arif UR Rehman Bahria\\nUniversity Islamabad.'),\n",
       " Document(metadata={'source': 'D:\\\\Programming\\\\Summarize-PDF\\\\IRT_Machine_Translation.pdf', 'page': 3}, page_content='REFERENCES\\n[1] Statistical Machine Translation. http://www.statmt.org/.\\n[2] Translation Automation Timeline. https://www.taus.net/academy/timelines/translation-\\nautomation-timeline.\\n[3] John Hutchins. Machine translation: History and general principles. The\\nencyclopedia of languages and linguistics, 5:2322–2332, 1994.\\n[4] Nal Kalchbrenner and Phil Blunsom. Recurrent continuous translation\\nmodels. In EMNLP, volume 3, page 413, 2013.\\n[5] Eric H. Nyberg and Teruko Mitamura. The kant system: Fast, accurate,\\nhigh-quality translation in practical domains. In Proceedings of the\\n14th Conference on Computational Linguistics - Volume 3, COLING\\n’92, pages 1069–1073, Stroudsburg, PA, USA, 1992. Association for\\nComputational Linguistics.\\n[6] MD Okpor. Machine translation approaches: issues and challenges.\\nInternational Journal of Computer Science Issues (IJCSI), 11(5):159,\\n2014.\\nView publication stats')]"
      ]
     },
     "execution_count": 4,
     "metadata": {},
     "output_type": "execute_result"
    }
   ],
   "source": [
    "pages"
   ]
  },
  {
   "cell_type": "code",
   "execution_count": 5,
   "metadata": {},
   "outputs": [
    {
     "data": {
      "text/plain": [
       "Document(metadata={'source': 'D:\\\\Programming\\\\Summarize-PDF\\\\IRT_Machine_Translation.pdf', 'page': 0}, page_content='See discussions, stats, and author profiles for this publication at: https://www.researchgate.net/publication/320730405\\nMachine Translation\\nPreprint · October 2017\\nCITATIONS\\n0\\nREADS\\n38,236\\n1 author:\\nMuhammad Irfan\\nBahria University\\n1 PUBLICATION\\xa0\\xa0\\xa00 CITATIONS\\xa0\\xa0\\xa0\\nSEE PROFILE\\nAll content following this page was uploaded by Muhammad Irfan on 31 October 2017.\\nThe user has requested enhancement of the downloaded file.')"
      ]
     },
     "execution_count": 5,
     "metadata": {},
     "output_type": "execute_result"
    }
   ],
   "source": [
    "pages[0]"
   ]
  },
  {
   "cell_type": "code",
   "execution_count": 6,
   "metadata": {},
   "outputs": [
    {
     "data": {
      "text/plain": [
       "[Document(metadata={'source': 'D:\\\\Programming\\\\Summarize-PDF\\\\IRT_Machine_Translation.pdf', 'page': 0}, page_content='See discussions, stats, and author profiles for this publication at: https://www.researchgate.net/publication/320730405\\nMachine Translation\\nPreprint · October 2017\\nCITATIONS\\n0\\nREADS\\n38,236\\n1 author:\\nMuhammad Irfan\\nBahria University\\n1 PUBLICATION\\xa0\\xa0\\xa00 CITATIONS\\xa0\\xa0\\xa0\\nSEE PROFILE\\nAll content following this page was uploaded by Muhammad Irfan on 31 October 2017.\\nThe user has requested enhancement of the downloaded file.'),\n",
       " Document(metadata={'source': 'D:\\\\Programming\\\\Summarize-PDF\\\\IRT_Machine_Translation.pdf', 'page': 1}, page_content='Machine Translation\\nMuhammad Irfan\\nDepartment of Computer Science\\nBahria University Islamabad\\nEmail: muhammad.Irfan@outlook.com\\nAbstract—Language is core medium of communication and\\ntranslation is core tool for the understand the information\\nin unknown language.Machine translation helps the people to\\nunderstand the information of unknown language without the\\nhelp of Human translator. This study is brief introduction to\\nmachine translation.\\nKeywords— Machine Translation, Rule-base Machine Transla-\\ntion, Example-base Machine Translation, Statistical Machine.\\nI. L ITERATURE REVIEW\\nThe idea of universal language was found in 17th century\\n[3].The concept of translation was base on word-to-word\\ntranslation.\\nWith modern computer and advance computation linguistics\\nman has able to develop automatic machine translation. The\\nEra of modern machine translation started in 1940s and\\nupto 1960 much work was done in advance linguistics[3]. In\\n1966 the Automatic Language Processing Advisory Committee\\n(ALPAC) reported that Machine Translation could not produce\\nquality translations as human translators[3], [2].\\nIn 1980s IBM started work in statistical machine translation\\nand 1990s the parallel text availability had increased the\\ninterest in statistical machine translation. In 2006 an open-\\nsource Statistical Machine Translation tool called Moses was\\nreleased and it currently the most complete Statistical Machine\\nTranslation software available[1].\\nIn 2008 a text/SMS translation service for mobiles was intro-\\nduced in Japan. In 2009 speech-to-speech translation were pro-\\nvided in mobile phone for English, Japanese and Chinese.The\\nNeural machine translation is a new approach to machine\\ntranslation proposed by Kalchbrenner and Blunsom in 2013[4].\\nII. I NTRODUCTION\\nLanguage is medium in which human can express his/her\\nidea. The total estimated language in world are between three\\nthousand to eight thousand. It is very difﬁcult to understand\\nevery language but the languages are the only medium of\\ncommunication in human society. The idea of translation\\nintroduces to communicate messages from one language to\\nothers.\\nMachine Translation (MT)\\nMachine Translation means automatic translation, It the\\nﬁeld of Artiﬁcial Intelligence. Machine translation is computer\\nprogram which is design to translate text from one language\\n(source language) to another language (target language) with-\\nout the help of human. The aim of Machine Translation is to\\nprovide a system that translate text of source language into\\ntarget language and translation express the same meaning as\\nit in source language.\\nGeneral Translation step\\nAny human translation can be described in following steps\\n• Decode the Source Text\\n• Re-encode it into Target language\\nBoth decoding and encode require deep knowledge of source\\nlanguage(SL) and target language (TL). This includes gram-\\nmar, semantic syntax understanding of both languages. Natural\\nLanguage are very complex in term words meaning, grammar\\nrules etc.\\nMachine Translation Approaches\\nThe machine translation approaches are rule-based approach\\nand corpus-based approach. For rule base machine translation,\\nHuman expert deﬁne set of rules for the translation process\\nwhile in corpus base approach rules are automatically ex-\\ntracted.\\n1) Rule-based Machine Translation(RBMT) Approach:The\\nRule-based Machine Translation works on the morphology,\\nsyntax and semantic of both languages. So, we required\\nthe syntax analysis, semantic analysis of Source text and to\\ngenerate the text in target language we need syntax generation\\nand semantic generation. We also need the bilingual dictionary\\nof source and target languages. General Steps of Rule-based\\nMachine Translation are described in ﬁgure 1.\\nFig. 1. Rule-based Machine Translation\\nSub approaches in RBMT\\nThe sub approaches in rule-based Machine translation\\nare direct, transfer-based, interlingual Machine Translation\\napproaches.')]"
      ]
     },
     "execution_count": 6,
     "metadata": {},
     "output_type": "execute_result"
    }
   ],
   "source": [
    "split_pdf1 = pages[0:2]\n",
    "split_pdf1"
   ]
  },
  {
   "cell_type": "code",
   "execution_count": 35,
   "metadata": {},
   "outputs": [
    {
     "name": "stdout",
     "output_type": "stream",
     "text": [
      "[Document(metadata={'source': 'D:\\\\Programming\\\\Summarize-PDF\\\\IRT_Machine_Translation.pdf', 'page': 0}, page_content='See discussions, stats, and author profiles for this publication at: https://www.researchgate.net/publication/320730405\\nMachine Translation\\nPreprint · October 2017\\nCITATIONS\\n0\\nREADS\\n38,236\\n1 author:\\nMuhammad Irfan\\nBahria University\\n1 PUBLICATION\\xa0\\xa0\\xa00 CITATIONS\\xa0\\xa0\\xa0\\nSEE PROFILE\\nAll content following this page was uploaded by Muhammad Irfan on 31 October 2017.\\nThe user has requested enhancement of the downloaded file.'), Document(metadata={'source': 'D:\\\\Programming\\\\Summarize-PDF\\\\IRT_Machine_Translation.pdf', 'page': 1}, page_content='Machine Translation\\nMuhammad Irfan\\nDepartment of Computer Science\\nBahria University Islamabad\\nEmail: muhammad.Irfan@outlook.com\\nAbstract—Language is core medium of communication and\\ntranslation is core tool for the understand the information\\nin unknown language.Machine translation helps the people to\\nunderstand the information of unknown language without the\\nhelp of Human translator. This study is brief introduction to\\nmachine translation.\\nKeywords— Machine Translation, Rule-base Machine Transla-\\ntion, Example-base Machine Translation, Statistical Machine.\\nI. L ITERATURE REVIEW\\nThe idea of universal language was found in 17th century\\n[3].The concept of translation was base on word-to-word\\ntranslation.\\nWith modern computer and advance computation linguistics\\nman has able to develop automatic machine translation. The\\nEra of modern machine translation started in 1940s and\\nupto 1960 much work was done in advance linguistics[3]. In\\n1966 the Automatic Language Processing Advisory Committee\\n(ALPAC) reported that Machine Translation could not produce\\nquality translations as human translators[3], [2].\\nIn 1980s IBM started work in statistical machine translation\\nand 1990s the parallel text availability had increased the\\ninterest in statistical machine translation. In 2006 an open-\\nsource Statistical Machine Translation tool called Moses was\\nreleased and it currently the most complete Statistical Machine\\nTranslation software available[1].\\nIn 2008 a text/SMS translation service for mobiles was intro-\\nduced in Japan. In 2009 speech-to-speech translation were pro-\\nvided in mobile phone for English, Japanese and Chinese.The\\nNeural machine translation is a new approach to machine\\ntranslation proposed by Kalchbrenner and Blunsom in 2013[4].\\nII. I NTRODUCTION\\nLanguage is medium in which human can express his/her\\nidea. The total estimated language in world are between three\\nthousand to eight thousand. It is very difﬁcult to understand\\nevery language but the languages are the only medium of\\ncommunication in human society. The idea of translation\\nintroduces to communicate messages from one language to\\nothers.\\nMachine Translation (MT)\\nMachine Translation means automatic translation, It the\\nﬁeld of Artiﬁcial Intelligence. Machine translation is computer\\nprogram which is design to translate text from one language\\n(source language) to another language (target language) with-\\nout the help of human. The aim of Machine Translation is to\\nprovide a system that translate text of source language into\\ntarget language and translation express the same meaning as\\nit in source language.\\nGeneral Translation step\\nAny human translation can be described in following steps\\n• Decode the Source Text\\n• Re-encode it into Target language\\nBoth decoding and encode require deep knowledge of source\\nlanguage(SL) and target language (TL). This includes gram-\\nmar, semantic syntax understanding of both languages. Natural\\nLanguage are very complex in term words meaning, grammar\\nrules etc.\\nMachine Translation Approaches\\nThe machine translation approaches are rule-based approach\\nand corpus-based approach. For rule base machine translation,\\nHuman expert deﬁne set of rules for the translation process\\nwhile in corpus base approach rules are automatically ex-\\ntracted.\\n1) Rule-based Machine Translation(RBMT) Approach:The\\nRule-based Machine Translation works on the morphology,\\nsyntax and semantic of both languages. So, we required\\nthe syntax analysis, semantic analysis of Source text and to\\ngenerate the text in target language we need syntax generation\\nand semantic generation. We also need the bilingual dictionary\\nof source and target languages. General Steps of Rule-based\\nMachine Translation are described in ﬁgure 1.\\nFig. 1. Rule-based Machine Translation\\nSub approaches in RBMT\\nThe sub approaches in rule-based Machine translation\\nare direct, transfer-based, interlingual Machine Translation\\napproaches.'), Document(metadata={'source': 'D:\\\\Programming\\\\Summarize-PDF\\\\IRT_Machine_Translation.pdf', 'page': 2}, page_content='Direct Machine Translation Approach:\\nThis is oldest approach and translation is performed at word\\nlevel. There is no additional intermediary representation be-\\ntween source and target languages. Words of source language\\ntext is directly translated into the target language. This is\\nuni-directional bilingual translation system. Direct machine\\ntranslation approach involves the word by word translation\\nwith some modiﬁcation at grammar level. The translation is\\nnot good as it is just the replacement of words from target\\nlanguage into source language text i-e word by word meaning\\nreplacement.\\nInterlingual Machine Translation Approach:\\nThis approach introduces an intermediary language represen-\\ntation between source and target languages. This intermediary\\nlanguage is called Neutral Language. Neutral language can\\nrepresent any natural language. It is independent of source and\\ntarget Languages. It is also useful for multilingual translation\\nmachine system.KANT system was developed on interlingual\\napproach in 1992 by Nyberg and Mitamura[5]. Building in-\\nterlingual language is not an easy job. Too much efforts are\\nrequired to develop truly neutral language.\\nTransfer base Machine Translation Approach\\nIn this approach the text of source language is converted\\ninto intermediary representation, it is then used to generate\\nthe target language text with help bilingual dictionary and\\ngrammar rules. Transfer based machine translation process is\\ndivided into three phases.\\nAnalysis\\nIn this phase source language text is analyzed on basis of lin-\\nguistic information and heuristics to parser the text (syntactic\\nrepresentation)\\nTransfer\\nThe syntactic representation of source language is converted\\ninto the syntactic form of target language.\\nGeneration\\nThe ﬁnal text in target language is generate with help of\\nmorphological analysis. This approach heavily dependent on\\nthe grammar and structure of sentence and changes to a\\nmonolingual component affect all transfer modules for that\\nlanguage.\\n2) Corpus-based Machine Translation Approach:It is ac-\\ntually data driven machine translation. It was introduced an\\nalternative approach to the rule-based approach. In this ap-\\nproach the bilanguage parallel corpus is used to extract the\\ntranslation for new sentences. A large amount of raw data\\nis collected in parallel corpora. The raw data is actually the\\ntranslation between source and target languages and this data\\nis used for translation. The sub-approaches of Corpus-based\\nMachine Translation are Statistical Machine Translation and\\nExample-based Machine Translation.\\nStatistical Machine Translation(SMT)\\nThis approach is basis on statistical model. It has two statistical\\nprobabilities models: language model and translation model\\nand massive parallel corpora of source and target languages.\\nThe advantage of SMT system is that linguistic knowledge\\nis not required for building them. The difﬁculty in SMT\\nsystem is creating massive parallel corpus. We have to two\\nmodels in SMT, one is Word-based and other is phrase-based.\\nIn word-bases MT sentences are consider as combination of\\nsingle words and structure relation between the words are\\nignored while in phrase-based model consider sentences as\\ncombination of phrases or chunk. The basic concept in SMT\\nis probability. The probability score of translations are gen-\\nerated from already available translated data (parallel corpus,\\ntranslated by human), the translation having high probability is\\nselected as ﬁnal translation. The probability is calculated with\\nhelp of language and translation models.\\nA huge amount of data is need for SMT and evolved many\\ntraining repetition process. There is also no speciﬁc method\\nquality control of corpora.\\nFig. 2. Statistical Machine Translation\\nExample-based Machine Translation (EBMT)\\nExample-based machine translation contains the point to point\\nmapping between the source and target language sentences i-e\\nwe have examples data that is translated between the source\\nand target language[6]. This data is used for translation. The\\nbasic idea is if already translated sentence occur again it, the\\nsame translation is likely to be correct again. Basically, EBMT\\nis memory-based translation and the concept of analogy is used\\nfor the translation.\\nFig. 3. Example-based Machine Translation\\nIII. C ONCLUSION\\nMany approaches have been proposed but none of them\\nproduce equivalent translation between target and source lan-\\nguages. It is difﬁcult to achieve 100 percent accuracy in trans-\\nlation due the complexity nature of natural Languages. Every\\nnatural language having different sentence structures, grammar\\nand lexicons. However, combining the best feature of different\\napproaches into hybrid approach can improve the accuracy of\\ntranslation. This quality improvement can increase the machine\\ntranslation role in cross-language Information Retrieval System\\nand Multilingual Information Retrieval systems.\\nACKNOWLEDGMENT\\nThe author would like to thank Dr. Arif UR Rehman Bahria\\nUniversity Islamabad.'), Document(metadata={'source': 'D:\\\\Programming\\\\Summarize-PDF\\\\IRT_Machine_Translation.pdf', 'page': 3}, page_content='REFERENCES\\n[1] Statistical Machine Translation. http://www.statmt.org/.\\n[2] Translation Automation Timeline. https://www.taus.net/academy/timelines/translation-\\nautomation-timeline.\\n[3] John Hutchins. Machine translation: History and general principles. The\\nencyclopedia of languages and linguistics, 5:2322–2332, 1994.\\n[4] Nal Kalchbrenner and Phil Blunsom. Recurrent continuous translation\\nmodels. In EMNLP, volume 3, page 413, 2013.\\n[5] Eric H. Nyberg and Teruko Mitamura. The kant system: Fast, accurate,\\nhigh-quality translation in practical domains. In Proceedings of the\\n14th Conference on Computational Linguistics - Volume 3, COLING\\n’92, pages 1069–1073, Stroudsburg, PA, USA, 1992. Association for\\nComputational Linguistics.\\n[6] MD Okpor. Machine translation approaches: issues and challenges.\\nInternational Journal of Computer Science Issues (IJCSI), 11(5):159,\\n2014.\\nView publication stats')]\n"
     ]
    }
   ],
   "source": [
    "pdf_folder_path = r\"D:\\Programming\\Summarize-PDF\"\n",
    "import os\n",
    "documents = []\n",
    "for file in os.listdir(pdf_folder_path):\n",
    "    if file.endswith('.pdf'):\n",
    "        pdf_path = os.path.join(pdf_folder_path, file)\n",
    "        loader = PyPDFLoader(pdf_path)\n",
    "        #print(loader.load())\n",
    "        documents.extend(loader.load())\n",
    "print(documents)"
   ]
  },
  {
   "cell_type": "code",
   "execution_count": 8,
   "metadata": {},
   "outputs": [
    {
     "name": "stderr",
     "output_type": "stream",
     "text": [
      "C:\\Users\\ASUS\\AppData\\Local\\Temp\\ipykernel_2380\\1489270838.py:3: LangChainDeprecationWarning: The method `Chain.run` was deprecated in langchain 0.1.0 and will be removed in 1.0. Use :meth:`~invoke` instead.\n",
      "  chain.run(split_pdf1)\n"
     ]
    },
    {
     "data": {
      "text/plain": [
       "\"Here's a concise summary of the preprint on Machine Translation:\\n\\nThe paper provides an introduction to machine translation, a field of artificial intelligence that enables automatic translation of text from one language to another. The author, Muhammad Irfan, discusses the history of machine translation, from its early beginnings in the 17th century to the current state of the art.\\n\\nThe paper covers the following key points:\\n\\n1. **History of Machine Translation**: The concept of universal language emerged in the 17th century, and modern machine translation began in the 1940s. Early work focused on word-to-word translation, but it wasn't until the 1980s and 1990s that statistical machine translation gained traction.\\n2. **Machine Translation Approaches**: There are two main approaches: rule-based machine translation (RBMT) and corpus-based approach. RBMT relies on human-defined rules, while the corpus-based approach extracts rules automatically.\\n3. **Rule-Based Machine Translation (RBMT)**: This approach involves syntax analysis, semantic analysis, and syntax generation to translate text from one language to another. It requires a bilingual dictionary and can be further divided into direct, transfer-based, and interlingual approaches.\\n\\nOverall, the paper provides a brief introduction to machine translation, its history, and its approaches, highlighting the importance of this field in facilitating communication across languages.\""
      ]
     },
     "execution_count": 8,
     "metadata": {},
     "output_type": "execute_result"
    }
   ],
   "source": [
    "from langchain.chains.summarize import load_summarize_chain\n",
    "chain = load_summarize_chain(model,chain_type='stuff')\n",
    "chain.run(split_pdf1)"
   ]
  },
  {
   "cell_type": "code",
   "execution_count": 9,
   "metadata": {},
   "outputs": [
    {
     "data": {
      "text/plain": [
       "[Document(metadata={'source': 'D:\\\\Programming\\\\Summarize-PDF\\\\IRT_Machine_Translation.pdf', 'page': 0}, page_content='See discussions, stats, and author profiles for this publication at: https://www.researchgate.net/publication/320730405\\nMachine Translation\\nPreprint · October 2017\\nCITATIONS\\n0\\nREADS\\n38,236\\n1 author:\\nMuhammad Irfan\\nBahria University\\n1 PUBLICATION\\xa0\\xa0\\xa00 CITATIONS\\xa0\\xa0\\xa0\\nSEE PROFILE\\nAll content following this page was uploaded by Muhammad Irfan on 31 October 2017.\\nThe user has requested enhancement of the downloaded file.'),\n",
       " Document(metadata={'source': 'D:\\\\Programming\\\\Summarize-PDF\\\\IRT_Machine_Translation.pdf', 'page': 1}, page_content='Machine Translation\\nMuhammad Irfan\\nDepartment of Computer Science\\nBahria University Islamabad\\nEmail: muhammad.Irfan@outlook.com\\nAbstract—Language is core medium of communication and\\ntranslation is core tool for the understand the information\\nin unknown language.Machine translation helps the people to\\nunderstand the information of unknown language without the\\nhelp of Human translator. This study is brief introduction to\\nmachine translation.\\nKeywords— Machine Translation, Rule-base Machine Transla-\\ntion, Example-base Machine Translation, Statistical Machine.\\nI. L ITERATURE REVIEW\\nThe idea of universal language was found in 17th century\\n[3].The concept of translation was base on word-to-word\\ntranslation.\\nWith modern computer and advance computation linguistics\\nman has able to develop automatic machine translation. The\\nEra of modern machine translation started in 1940s and\\nupto 1960 much work was done in advance linguistics[3]. In\\n1966 the Automatic Language Processing Advisory Committee\\n(ALPAC) reported that Machine Translation could not produce\\nquality translations as human translators[3], [2].\\nIn 1980s IBM started work in statistical machine translation\\nand 1990s the parallel text availability had increased the\\ninterest in statistical machine translation. In 2006 an open-\\nsource Statistical Machine Translation tool called Moses was\\nreleased and it currently the most complete Statistical Machine\\nTranslation software available[1].\\nIn 2008 a text/SMS translation service for mobiles was intro-\\nduced in Japan. In 2009 speech-to-speech translation were pro-\\nvided in mobile phone for English, Japanese and Chinese.The\\nNeural machine translation is a new approach to machine\\ntranslation proposed by Kalchbrenner and Blunsom in 2013[4].\\nII. I NTRODUCTION\\nLanguage is medium in which human can express his/her\\nidea. The total estimated language in world are between three\\nthousand to eight thousand. It is very difﬁcult to understand\\nevery language but the languages are the only medium of\\ncommunication in human society. The idea of translation\\nintroduces to communicate messages from one language to\\nothers.\\nMachine Translation (MT)\\nMachine Translation means automatic translation, It the\\nﬁeld of Artiﬁcial Intelligence. Machine translation is computer\\nprogram which is design to translate text from one language\\n(source language) to another language (target language) with-\\nout the help of human. The aim of Machine Translation is to\\nprovide a system that translate text of source language into\\ntarget language and translation express the same meaning as\\nit in source language.\\nGeneral Translation step\\nAny human translation can be described in following steps\\n• Decode the Source Text\\n• Re-encode it into Target language\\nBoth decoding and encode require deep knowledge of source\\nlanguage(SL) and target language (TL). This includes gram-\\nmar, semantic syntax understanding of both languages. Natural\\nLanguage are very complex in term words meaning, grammar\\nrules etc.\\nMachine Translation Approaches\\nThe machine translation approaches are rule-based approach\\nand corpus-based approach. For rule base machine translation,\\nHuman expert deﬁne set of rules for the translation process\\nwhile in corpus base approach rules are automatically ex-\\ntracted.\\n1) Rule-based Machine Translation(RBMT) Approach:The\\nRule-based Machine Translation works on the morphology,\\nsyntax and semantic of both languages. So, we required\\nthe syntax analysis, semantic analysis of Source text and to\\ngenerate the text in target language we need syntax generation\\nand semantic generation. We also need the bilingual dictionary\\nof source and target languages. General Steps of Rule-based\\nMachine Translation are described in ﬁgure 1.\\nFig. 1. Rule-based Machine Translation\\nSub approaches in RBMT\\nThe sub approaches in rule-based Machine translation\\nare direct, transfer-based, interlingual Machine Translation\\napproaches.'),\n",
       " Document(metadata={'source': 'D:\\\\Programming\\\\Summarize-PDF\\\\IRT_Machine_Translation.pdf', 'page': 2}, page_content='Direct Machine Translation Approach:\\nThis is oldest approach and translation is performed at word\\nlevel. There is no additional intermediary representation be-\\ntween source and target languages. Words of source language\\ntext is directly translated into the target language. This is\\nuni-directional bilingual translation system. Direct machine\\ntranslation approach involves the word by word translation\\nwith some modiﬁcation at grammar level. The translation is\\nnot good as it is just the replacement of words from target\\nlanguage into source language text i-e word by word meaning\\nreplacement.\\nInterlingual Machine Translation Approach:\\nThis approach introduces an intermediary language represen-\\ntation between source and target languages. This intermediary\\nlanguage is called Neutral Language. Neutral language can\\nrepresent any natural language. It is independent of source and\\ntarget Languages. It is also useful for multilingual translation\\nmachine system.KANT system was developed on interlingual\\napproach in 1992 by Nyberg and Mitamura[5]. Building in-\\nterlingual language is not an easy job. Too much efforts are\\nrequired to develop truly neutral language.\\nTransfer base Machine Translation Approach\\nIn this approach the text of source language is converted\\ninto intermediary representation, it is then used to generate\\nthe target language text with help bilingual dictionary and\\ngrammar rules. Transfer based machine translation process is\\ndivided into three phases.\\nAnalysis\\nIn this phase source language text is analyzed on basis of lin-\\nguistic information and heuristics to parser the text (syntactic\\nrepresentation)\\nTransfer\\nThe syntactic representation of source language is converted\\ninto the syntactic form of target language.\\nGeneration\\nThe ﬁnal text in target language is generate with help of\\nmorphological analysis. This approach heavily dependent on\\nthe grammar and structure of sentence and changes to a\\nmonolingual component affect all transfer modules for that\\nlanguage.\\n2) Corpus-based Machine Translation Approach:It is ac-\\ntually data driven machine translation. It was introduced an\\nalternative approach to the rule-based approach. In this ap-\\nproach the bilanguage parallel corpus is used to extract the\\ntranslation for new sentences. A large amount of raw data\\nis collected in parallel corpora. The raw data is actually the\\ntranslation between source and target languages and this data\\nis used for translation. The sub-approaches of Corpus-based\\nMachine Translation are Statistical Machine Translation and\\nExample-based Machine Translation.\\nStatistical Machine Translation(SMT)\\nThis approach is basis on statistical model. It has two statistical\\nprobabilities models: language model and translation model\\nand massive parallel corpora of source and target languages.\\nThe advantage of SMT system is that linguistic knowledge\\nis not required for building them. The difﬁculty in SMT\\nsystem is creating massive parallel corpus. We have to two\\nmodels in SMT, one is Word-based and other is phrase-based.\\nIn word-bases MT sentences are consider as combination of\\nsingle words and structure relation between the words are\\nignored while in phrase-based model consider sentences as\\ncombination of phrases or chunk. The basic concept in SMT\\nis probability. The probability score of translations are gen-\\nerated from already available translated data (parallel corpus,\\ntranslated by human), the translation having high probability is\\nselected as ﬁnal translation. The probability is calculated with\\nhelp of language and translation models.\\nA huge amount of data is need for SMT and evolved many\\ntraining repetition process. There is also no speciﬁc method\\nquality control of corpora.\\nFig. 2. Statistical Machine Translation\\nExample-based Machine Translation (EBMT)\\nExample-based machine translation contains the point to point\\nmapping between the source and target language sentences i-e\\nwe have examples data that is translated between the source\\nand target language[6]. This data is used for translation. The\\nbasic idea is if already translated sentence occur again it, the\\nsame translation is likely to be correct again. Basically, EBMT\\nis memory-based translation and the concept of analogy is used\\nfor the translation.\\nFig. 3. Example-based Machine Translation\\nIII. C ONCLUSION\\nMany approaches have been proposed but none of them\\nproduce equivalent translation between target and source lan-\\nguages. It is difﬁcult to achieve 100 percent accuracy in trans-\\nlation due the complexity nature of natural Languages. Every\\nnatural language having different sentence structures, grammar\\nand lexicons. However, combining the best feature of different\\napproaches into hybrid approach can improve the accuracy of\\ntranslation. This quality improvement can increase the machine\\ntranslation role in cross-language Information Retrieval System\\nand Multilingual Information Retrieval systems.\\nACKNOWLEDGMENT\\nThe author would like to thank Dr. Arif UR Rehman Bahria\\nUniversity Islamabad.'),\n",
       " Document(metadata={'source': 'D:\\\\Programming\\\\Summarize-PDF\\\\IRT_Machine_Translation.pdf', 'page': 3}, page_content='REFERENCES\\n[1] Statistical Machine Translation. http://www.statmt.org/.\\n[2] Translation Automation Timeline. https://www.taus.net/academy/timelines/translation-\\nautomation-timeline.\\n[3] John Hutchins. Machine translation: History and general principles. The\\nencyclopedia of languages and linguistics, 5:2322–2332, 1994.\\n[4] Nal Kalchbrenner and Phil Blunsom. Recurrent continuous translation\\nmodels. In EMNLP, volume 3, page 413, 2013.\\n[5] Eric H. Nyberg and Teruko Mitamura. The kant system: Fast, accurate,\\nhigh-quality translation in practical domains. In Proceedings of the\\n14th Conference on Computational Linguistics - Volume 3, COLING\\n’92, pages 1069–1073, Stroudsburg, PA, USA, 1992. Association for\\nComputational Linguistics.\\n[6] MD Okpor. Machine translation approaches: issues and challenges.\\nInternational Journal of Computer Science Issues (IJCSI), 11(5):159,\\n2014.\\nView publication stats')]"
      ]
     },
     "execution_count": 9,
     "metadata": {},
     "output_type": "execute_result"
    }
   ],
   "source": [
    "pages"
   ]
  },
  {
   "cell_type": "code",
   "execution_count": 10,
   "metadata": {},
   "outputs": [
    {
     "name": "stdout",
     "output_type": "stream",
     "text": [
      "There is no summary of a publication provided. The given text appears to be a metadata description of a research paper on machine translation, uploaded to ResearchGate in October 2017 by Muhammad Irfan.\n",
      "Here's a concise summary of the given text:\n",
      "\n",
      "Machine translation is a field of artificial intelligence that enables computers to translate text from one language to another without human intervention. The concept of machine translation dates back to the 17th century, but significant progress was made in the 1940s and 1960s. However, early machine translation systems failed to produce quality translations, leading to a decline in interest.\n",
      "\n",
      "In the 1980s and 1990s, IBM worked on statistical machine translation, and the availability of parallel text data increased interest in this approach. The open-source tool Moses was released in 2006 and is currently the most complete statistical machine translation software available.\n",
      "\n",
      "There are two main approaches to machine translation: rule-based and corpus-based. Rule-based machine translation involves defining a set of rules for translation, while corpus-based approach extracts rules automatically. The rule-based approach requires syntax analysis, semantic analysis, and bilingual dictionaries for both source and target languages.\n",
      "\n",
      "Recent advancements in machine translation include the introduction of neural machine translation in 2013, which is a new approach to machine translation that has shown promising results. Machine translation has also been applied to speech-to-speech translation and text/SMS translation services for mobile devices.\n",
      "There are four approaches to machine translation:\n",
      "\n",
      "1. **Direct Machine Translation**: Translates words directly from source to target language, resulting in poor translation quality.\n",
      "2. **Interlingual Machine Translation**: Uses a neutral language as an intermediary representation between source and target languages, but is difficult to develop.\n",
      "3. **Transfer-based Machine Translation**: Converts source language text into an intermediary representation, then generates the target language text using bilingual dictionaries and grammar rules.\n",
      "4. **Corpus-based Machine Translation**: Uses large parallel corpora to extract translations for new sentences, including:\n",
      "\t* **Statistical Machine Translation (SMT)**: Uses statistical models to generate translations, but requires massive parallel corpora and can be prone to errors.\n",
      "\t* **Example-based Machine Translation (EBMT)**: Uses point-to-point mapping between source and target language sentences to generate translations.\n",
      "\n",
      "While each approach has its limitations, combining the best features of different approaches into a hybrid approach can improve translation accuracy and increase the role of machine translation in cross-language information retrieval systems.\n",
      "The provided text appears to be a list of references for a research paper or article on machine translation. The references include:\n",
      "\n",
      "- A website on statistical machine translation (statmt.org)\n",
      "- A translation automation timeline (taus.net)\n",
      "- A 1994 article by John Hutchins on machine translation history and principles\n",
      "- A 2013 paper by Nal Kalchbrenner and Phil Blunsom on recurrent continuous translation models\n",
      "- A 1992 paper by Eric H. Nyberg and Teruko Mitamura on the Kant system for fast and accurate translation\n",
      "- A 2014 article by MD Okpor on machine translation approaches and challenges\n",
      "\n",
      "These references suggest that the paper or article will discuss the history, principles, and current approaches to machine translation, including statistical machine translation and recurrent neural networks.\n"
     ]
    }
   ],
   "source": [
    "user_input = 4\n",
    "for i in range(0,user_input):\n",
    "    user_split_pdf = pages[i]\n",
    "    #print(user_split_pdf.page_content)\n",
    "    #print(split_pdf[i])\n",
    "    chain = load_summarize_chain(model,chain_type='stuff')\n",
    "    result = chain.run({\"input_documents\":[user_split_pdf]})\n",
    "    print(result)\n"
   ]
  },
  {
   "cell_type": "code",
   "execution_count": 15,
   "metadata": {},
   "outputs": [
    {
     "name": "stdout",
     "output_type": "stream",
     "text": [
      "Here's a concise summary of the given text:\n",
      "\n",
      "Machine translation is a field of artificial intelligence that enables computers to translate text from one language to another without human intervention. The concept of machine translation dates back to the 17th century, but it wasn't until the 1940s that modern machine translation began to develop. Initially, machine translation relied on word-to-word translation, but it was later found to produce low-quality translations.\n",
      "\n",
      "In the 1980s, IBM started working on statistical machine translation, and in the 1990s, the availability of parallel text increased interest in this approach. The open-source tool Moses was released in 2006 and is currently the most complete statistical machine translation software available.\n",
      "\n",
      "There are two main approaches to machine translation: rule-based and corpus-based. Rule-based machine translation relies on human-defined rules, while corpus-based approach extracts rules automatically. The rule-based approach involves syntax analysis, semantic analysis, and bilingual dictionaries.\n",
      "\n",
      "Neural machine translation, proposed in 2013, is a new approach that has improved the quality of machine translation. Machine translation has various applications, including text/SMS translation services and speech-to-speech translation in mobile phones.\n",
      "There are four approaches to machine translation:\n",
      "\n",
      "1. **Direct Machine Translation**: Translates words directly from source to target language, resulting in poor translation quality.\n",
      "2. **Interlingual Machine Translation**: Uses a neutral language as an intermediary representation between source and target languages, allowing for multilingual translation.\n",
      "3. **Transfer-based Machine Translation**: Converts source language text into an intermediary representation, which is then used to generate the target language text.\n",
      "4. **Corpus-based Machine Translation**: Uses large amounts of parallel data to train statistical models, allowing for data-driven translation.\n",
      "\n",
      "Within Corpus-based Machine Translation, there are two sub-approaches:\n",
      "\n",
      "1. **Statistical Machine Translation (SMT)**: Uses statistical models to generate translations, without requiring linguistic knowledge.\n",
      "2. **Example-based Machine Translation (EBMT)**: Uses point-to-point mapping between source and target language sentences to generate translations.\n",
      "\n",
      "The article concludes that while none of these approaches produce perfect translations, combining the best features of different approaches into a hybrid approach can improve translation accuracy and increase the role of machine translation in cross-language information retrieval systems.\n"
     ]
    }
   ],
   "source": [
    "start_user = 1\n",
    "end_user = 3\n",
    "for i in range(start_user, end_user):\n",
    "    user_split_pdf = pages[i]\n",
    "    #print(user_split_pdf.page_content)\n",
    "    #print(split_pdf[i])\n",
    "    chain = load_summarize_chain(model,chain_type='stuff')\n",
    "    result = chain.run({\"input_documents\":[user_split_pdf]})\n",
    "    print(result)"
   ]
  },
  {
   "cell_type": "code",
   "execution_count": null,
   "metadata": {},
   "outputs": [],
   "source": []
  }
 ],
 "metadata": {
  "kernelspec": {
   "display_name": "Python 3",
   "language": "python",
   "name": "python3"
  },
  "language_info": {
   "codemirror_mode": {
    "name": "ipython",
    "version": 3
   },
   "file_extension": ".py",
   "mimetype": "text/x-python",
   "name": "python",
   "nbconvert_exporter": "python",
   "pygments_lexer": "ipython3",
   "version": "3.12.undefined"
  }
 },
 "nbformat": 4,
 "nbformat_minor": 2
}
