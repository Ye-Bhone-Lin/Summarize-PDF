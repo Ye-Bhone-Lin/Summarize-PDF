{
 "cells": [
  {
   "cell_type": "code",
   "execution_count": 6,
   "metadata": {},
   "outputs": [],
   "source": [
    "from langchain.vectorstores import FAISS\n",
    "from langchain.embeddings import HuggingFaceEmbeddings\n",
    "db = FAISS.load_local(\"faiss_index\", embeddings=HuggingFaceEmbeddings(model_name=\"sentence-transformers/all-MiniLM-L6-v2\"),allow_dangerous_deserialization = True)"
   ]
  },
  {
   "cell_type": "code",
   "execution_count": 7,
   "metadata": {},
   "outputs": [],
   "source": [
    "retriever = db.as_retriever(search_type=\"similarity\")"
   ]
  },
  {
   "cell_type": "code",
   "execution_count": 12,
   "metadata": {},
   "outputs": [],
   "source": [
    "from langchain_google_genai import ChatGoogleGenerativeAI\n",
    "from dotenv import load_dotenv\n",
    "from langchain_groq import ChatGroq\n",
    "\n",
    "load_dotenv()\n",
    "model = ChatGroq(temperature = 0.1, model_name = \"llama-3.1-8b-instant\")"
   ]
  },
  {
   "cell_type": "code",
   "execution_count": 17,
   "metadata": {},
   "outputs": [],
   "source": [
    "from langchain_core.prompts import ChatPromptTemplate\n",
    "\n",
    "system_prompt = (\n",
    "    \"You are a PDF Reader Assistant.\"\n",
    "    \"Provide concise and professional responses.\"\n",
    "    \"If the user asks a part of PDF, give clear and helpful information about it.\"\n",
    "    \"\\n\\n\"\n",
    "    \"{context}\"\n",
    ")\n",
    "\n",
    "prompt = ChatPromptTemplate(\n",
    "    [\n",
    "        (\"system\",system_prompt),\n",
    "        (\"human\", \"{input}\"),\n",
    "    ]\n",
    "    )"
   ]
  },
  {
   "cell_type": "code",
   "execution_count": 20,
   "metadata": {},
   "outputs": [],
   "source": [
    "from langchain.chains.combine_documents import create_stuff_documents_chain\n",
    "\n",
    "create_stuff_documents_chain = create_stuff_documents_chain(model,prompt)"
   ]
  },
  {
   "cell_type": "code",
   "execution_count": 21,
   "metadata": {},
   "outputs": [],
   "source": [
    "from langchain.chains import create_retrieval_chain\n",
    "\n",
    "output = create_retrieval_chain(retriever, create_stuff_documents_chain)"
   ]
  },
  {
   "cell_type": "code",
   "execution_count": 24,
   "metadata": {},
   "outputs": [
    {
     "data": {
      "text/plain": [
       "\"Based on the provided information, this article appears to be a preprint on Machine Translation, specifically discussing the approaches and methods used in this field. Here's a brief evaluation of the article:\\n\\n**Strengths:**\\n\\n1. **Clear structure**: The article is well-organized, with a clear introduction, explanation of machine translation approaches, and discussion of sub-approaches in rule-based machine translation.\\n2. **Technical details**: The author provides technical details about machine translation, including the use of morphology, syntax, and semantic analysis, which is useful for readers interested in the technical aspects of machine translation.\\n3. **References**: The article includes a list of references, which is a good practice in academic writing, allowing readers to explore the topic further.\\n\\n**Weaknesses:**\\n\\n1. **Limited scope**: The article focuses primarily on rule-based machine translation approaches, which might not provide a comprehensive overview of machine translation methods.\\n2. **Lack of evaluation or comparison**: The article does not evaluate or compare the performance of different machine translation approaches, which would be useful for readers interested in understanding the strengths and weaknesses of each approach.\\n3. **No concrete examples**: The article does not provide concrete examples or case studies to illustrate the application of machine translation approaches, which might make it harder for readers to understand the practical implications of the discussed methods.\\n\\n**Overall assessment:**\\n\\nThis article appears to be a good introduction to machine translation approaches, particularly rule-based machine translation. However, it might benefit from a more comprehensive evaluation or comparison of different approaches, as well as concrete examples or case studies to illustrate the practical applications of machine translation.\""
      ]
     },
     "execution_count": 24,
     "metadata": {},
     "output_type": "execute_result"
    }
   ],
   "source": [
    "output.invoke({\"input\":\"How did this article evaluate\"})['answer']"
   ]
  },
  {
   "cell_type": "code",
   "execution_count": null,
   "metadata": {},
   "outputs": [],
   "source": []
  }
 ],
 "metadata": {
  "kernelspec": {
   "display_name": "Python 3",
   "language": "python",
   "name": "python3"
  },
  "language_info": {
   "codemirror_mode": {
    "name": "ipython",
    "version": 3
   },
   "file_extension": ".py",
   "mimetype": "text/x-python",
   "name": "python",
   "nbconvert_exporter": "python",
   "pygments_lexer": "ipython3",
   "version": "3.12.9"
  }
 },
 "nbformat": 4,
 "nbformat_minor": 2
}
